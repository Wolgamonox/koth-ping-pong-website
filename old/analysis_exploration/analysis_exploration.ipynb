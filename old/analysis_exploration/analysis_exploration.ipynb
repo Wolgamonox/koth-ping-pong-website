{
 "cells": [
  {
   "attachments": {},
   "cell_type": "markdown",
   "metadata": {},
   "source": [
    "# Ping Pong King of the Hill Game Statistics Summary\n",
    "*Author: Gaston Wolfart*"
   ]
  },
  {
   "cell_type": "code",
   "execution_count": 2,
   "metadata": {},
   "outputs": [],
   "source": [
    "import pandas as pd\n",
    "import numpy as np\n",
    "import json\n",
    "\n",
    "import seaborn as sns\n",
    "import matplotlib.pyplot as plt\n",
    "import matplotlib.gridspec as gridspec\n",
    "\n",
    "from datetime import timedelta\n",
    "\n",
    "sns.set_theme()\n"
   ]
  },
  {
   "attachments": {},
   "cell_type": "markdown",
   "metadata": {},
   "source": [
    "## 1. Processing details"
   ]
  },
  {
   "attachments": {},
   "cell_type": "markdown",
   "metadata": {},
   "source": [
    "### 1.1 Loading data for one game"
   ]
  },
  {
   "attachments": {},
   "cell_type": "markdown",
   "metadata": {},
   "source": [
    "#### Preprocessing tests"
   ]
  },
  {
   "cell_type": "code",
   "execution_count": 3,
   "metadata": {},
   "outputs": [
    {
     "data": {
      "text/plain": [
       "{'players': ['Gaston', 'Mathieu', 'Marc'],\n",
       " 'transitions': [{'Gaston': 4}, {'Mathieu': 4}, {'Marc': 38}, {'Gaston': 12}]}"
      ]
     },
     "execution_count": 3,
     "metadata": {},
     "output_type": "execute_result"
    }
   ],
   "source": [
    "# json format\n",
    "\n",
    "json_string = '{\"players\":[\"Gaston\",\"Mathieu\",\"Marc\"],\"transitions\":[{\"Gaston\":4},{\"Mathieu\":4},{\"Marc\":38},{\"Gaston\":12}]}'\n",
    "data = json.loads(json_string)\n",
    "data\n"
   ]
  },
  {
   "cell_type": "code",
   "execution_count": 4,
   "metadata": {},
   "outputs": [],
   "source": [
    "# save to file as raw\n",
    "with open(\"test.json\", \"w\") as outfile:\n",
    "    outfile.write(json_string)\n"
   ]
  },
  {
   "cell_type": "code",
   "execution_count": 5,
   "metadata": {},
   "outputs": [],
   "source": [
    "# save to file\n",
    "with open(\"test.json\", \"w\") as outfile:\n",
    "    json.dump(data, outfile, indent=4)\n"
   ]
  },
  {
   "cell_type": "code",
   "execution_count": 6,
   "metadata": {},
   "outputs": [
    {
     "name": "stdout",
     "output_type": "stream",
     "text": [
      "{'players': ['Gaston', 'Mathieu', 'Marc'], 'transitions': [{'Gaston': 4}, {'Mathieu': 4}, {'Marc': 38}, {'Gaston': 12}]}\n"
     ]
    }
   ],
   "source": [
    "# read from file\n",
    "read_data = {}\n",
    "with open(\"test.json\") as json_file:\n",
    "    read_data = json.load(json_file)\n",
    "\n",
    "print(read_data)\n"
   ]
  },
  {
   "cell_type": "code",
   "execution_count": 7,
   "metadata": {},
   "outputs": [
    {
     "data": {
      "text/plain": [
       "['Gaston', 'Mathieu', 'Marc']"
      ]
     },
     "execution_count": 7,
     "metadata": {},
     "output_type": "execute_result"
    }
   ],
   "source": [
    "players_json = read_data[\"players\"]\n",
    "players_json\n"
   ]
  },
  {
   "cell_type": "code",
   "execution_count": 8,
   "metadata": {},
   "outputs": [
    {
     "data": {
      "text/plain": [
       "[{'Gaston': 4}, {'Mathieu': 4}, {'Marc': 38}, {'Gaston': 12}]"
      ]
     },
     "execution_count": 8,
     "metadata": {},
     "output_type": "execute_result"
    }
   ],
   "source": [
    "transitions_json = read_data[\"transitions\"]\n",
    "transitions_json\n"
   ]
  },
  {
   "attachments": {},
   "cell_type": "markdown",
   "metadata": {},
   "source": [
    "#### Dummy data"
   ]
  },
  {
   "cell_type": "code",
   "execution_count": 9,
   "metadata": {},
   "outputs": [
    {
     "name": "stdout",
     "output_type": "stream",
     "text": [
      "      Name  Duration\n",
      "0     Marc       120\n",
      "1  Mathieu        20\n",
      "2     Marc        32\n",
      "3   Gaston        90\n",
      "4  Mathieu        70\n",
      "5  Mathieu        10\n",
      "6     Marc        25\n"
     ]
    }
   ],
   "source": [
    "players = [\"Marc\", \"Mathieu\", \"Gaston\"]\n",
    "dummy_data = [\n",
    "    (\"Marc\", 120),\n",
    "    (\"Mathieu\", 20),\n",
    "    (\"Marc\", 32),\n",
    "    (\"Gaston\", 90),\n",
    "    (\"Mathieu\", 70),\n",
    "    (\"Mathieu\", 10),\n",
    "    (\"Marc\", 25),\n",
    "]\n",
    "\n",
    "# dummy_data = [\n",
    "#     (\"Marc\", 60),\n",
    "#     (\"Gaston\", 60),\n",
    "#     (\"Mathieu\", 60),\n",
    "# ]\n",
    "\n",
    "\n",
    "dummy_df = pd.DataFrame(dummy_data, columns=[\"Name\", \"Duration\"])\n",
    "print(dummy_df)\n"
   ]
  },
  {
   "attachments": {},
   "cell_type": "markdown",
   "metadata": {},
   "source": [
    "Game duration"
   ]
  },
  {
   "cell_type": "code",
   "execution_count": 10,
   "metadata": {},
   "outputs": [
    {
     "name": "stdout",
     "output_type": "stream",
     "text": [
      "Game lasted for 0:06:07 (367 sec.)\n"
     ]
    }
   ],
   "source": [
    "total_duration_seconds = dummy_df[\"Duration\"].sum()\n",
    "print(\n",
    "    \"Game lasted for %s (%d sec.)\"\n",
    "    % (timedelta(seconds=int(total_duration_seconds)), total_duration_seconds)\n",
    ")\n"
   ]
  },
  {
   "attachments": {},
   "cell_type": "markdown",
   "metadata": {},
   "source": [
    "Players names"
   ]
  },
  {
   "cell_type": "code",
   "execution_count": 11,
   "metadata": {},
   "outputs": [
    {
     "name": "stdout",
     "output_type": "stream",
     "text": [
      "['Marc', 'Mathieu', 'Gaston']\n"
     ]
    }
   ],
   "source": [
    "print(players)\n"
   ]
  },
  {
   "attachments": {},
   "cell_type": "markdown",
   "metadata": {},
   "source": [
    "Assign a color to each player for better plotting."
   ]
  },
  {
   "cell_type": "code",
   "execution_count": 12,
   "metadata": {},
   "outputs": [
    {
     "data": {
      "text/plain": [
       "{'Marc': (0.984313725490196, 0.7058823529411765, 0.6823529411764706),\n",
       " 'Mathieu': (0.7019607843137254, 0.803921568627451, 0.8901960784313725),\n",
       " 'Gaston': (0.8, 0.9215686274509803, 0.7725490196078432)}"
      ]
     },
     "execution_count": 12,
     "metadata": {},
     "output_type": "execute_result"
    }
   ],
   "source": [
    "# determine consistent color palette for players\n",
    "player_colors = {\n",
    "    name: color for name, color in zip(players, sns.color_palette(\"Pastel1\", n_colors=len(players)))\n",
    "}\n",
    "player_colors\n"
   ]
  },
  {
   "attachments": {},
   "cell_type": "markdown",
   "metadata": {},
   "source": [
    "### 1.2 First and last king"
   ]
  },
  {
   "cell_type": "code",
   "execution_count": 13,
   "metadata": {},
   "outputs": [
    {
     "name": "stdout",
     "output_type": "stream",
     "text": [
      "First king: Marc \n",
      "Last king: Marc \n"
     ]
    }
   ],
   "source": [
    "print(\"First king: %s \" % dummy_df.iloc[0][\"Name\"])\n",
    "print(\"Last king: %s \" % dummy_df.iloc[-1][\"Name\"])\n"
   ]
  },
  {
   "attachments": {},
   "cell_type": "markdown",
   "metadata": {},
   "source": [
    "### 1.3 Number of crowns claimed"
   ]
  },
  {
   "cell_type": "code",
   "execution_count": 14,
   "metadata": {},
   "outputs": [
    {
     "name": "stdout",
     "output_type": "stream",
     "text": [
      "first king: Marc\n"
     ]
    },
    {
     "data": {
      "image/png": "[encoded data removed]",
      "text/plain": [
       "<Figure size 640x480 with 1 Axes>"
      ]
     },
     "metadata": {},
     "output_type": "display_data"
    }
   ],
   "source": [
    "# number of times that a player claimed the crown\n",
    "\n",
    "# need to remove first entry because crown was not claimed\n",
    "first_king = dummy_df.iloc[0][\"Name\"]\n",
    "print(\"first king:\", first_king)\n",
    "\n",
    "crowns_claimed = (\n",
    "    dummy_df.groupby(\"Name\")\n",
    "    .count()\n",
    "    .rename({\"Duration\": \"Claimed\"}, axis=1)\n",
    "    .sort_values(\"Claimed\", ascending=False)\n",
    ")\n",
    "crowns_claimed.loc[first_king][\"Claimed\"] -= 1\n",
    "\n",
    "# include other players\n",
    "if len(crowns_claimed) < len(players):\n",
    "    for player in players:\n",
    "        if player not in crowns_claimed.index:\n",
    "            crowns_claimed = pd.concat(\n",
    "                [crowns_claimed, pd.DataFrame({\"Claimed\": 0}, index=[player])]\n",
    "            )\n",
    "\n",
    "\n",
    "# plotting\n",
    "sns.barplot(x=crowns_claimed.index, y=crowns_claimed.Claimed, palette=player_colors)\n",
    "\n",
    "plt.xlabel(\"\")\n",
    "plt.yticks(range(0, int(np.ceil(crowns_claimed[\"Claimed\"].max())) + 1))\n",
    "plt.ylabel(\"Number of crowns claimed\")\n",
    "plt.title(\"Number of crowns claimed\")\n",
    "plt.tight_layout()\n",
    "plt.show()\n"
   ]
  },
  {
   "cell_type": "code",
   "execution_count": 15,
   "metadata": {},
   "outputs": [
    {
     "data": {
      "text/html": [
       "<div>\n",
       "<style scoped>\n",
       "    .dataframe tbody tr th:only-of-type {\n",
       "        vertical-align: middle;\n",
       "    }\n",
       "\n",
       "    .dataframe tbody tr th {\n",
       "        vertical-align: top;\n",
       "    }\n",
       "\n",
       "    .dataframe thead th {\n",
       "        text-align: right;\n",
       "    }\n",
       "</style>\n",
       "<table border=\"1\" class=\"dataframe\">\n",
       "  <thead>\n",
       "    <tr style=\"text-align: right;\">\n",
       "      <th></th>\n",
       "      <th>Claimed</th>\n",
       "    </tr>\n",
       "    <tr>\n",
       "      <th>Name</th>\n",
       "      <th></th>\n",
       "    </tr>\n",
       "  </thead>\n",
       "  <tbody>\n",
       "    <tr>\n",
       "      <th>Marc</th>\n",
       "      <td>2</td>\n",
       "    </tr>\n",
       "    <tr>\n",
       "      <th>Mathieu</th>\n",
       "      <td>3</td>\n",
       "    </tr>\n",
       "    <tr>\n",
       "      <th>Gaston</th>\n",
       "      <td>1</td>\n",
       "    </tr>\n",
       "  </tbody>\n",
       "</table>\n",
       "</div>"
      ],
      "text/plain": [
       "         Claimed\n",
       "Name            \n",
       "Marc           2\n",
       "Mathieu        3\n",
       "Gaston         1"
      ]
     },
     "execution_count": 15,
     "metadata": {},
     "output_type": "execute_result"
    }
   ],
   "source": [
    "crowns_claimed\n"
   ]
  },
  {
   "attachments": {},
   "cell_type": "markdown",
   "metadata": {},
   "source": [
    "### 1.4 Total time as king"
   ]
  },
  {
   "cell_type": "code",
   "execution_count": 16,
   "metadata": {},
   "outputs": [
    {
     "data": {
      "image/png": "[encoded data removed]",
      "text/plain": [
       "<Figure size 640x480 with 1 Axes>"
      ]
     },
     "metadata": {},
     "output_type": "display_data"
    }
   ],
   "source": [
    "total_time_king = dummy_df.groupby(\"Name\").sum().sort_values(\"Duration\", ascending=False)\n",
    "\n",
    "# include other players\n",
    "if len(total_time_king) < len(players):\n",
    "    for player in players:\n",
    "        if player not in total_time_king.index:\n",
    "            total_time_king = pd.concat(\n",
    "                [total_time_king, pd.DataFrame({\"Duration\": 0}, index=[player])]\n",
    "            )\n",
    "\n",
    "# plotting\n",
    "plt.pie(\n",
    "    total_time_king[\"Duration\"],\n",
    "    labels=total_time_king.index,\n",
    "    autopct=\"%.0f%%\",\n",
    "    colors=[player_colors[key] for key in player_colors],\n",
    ")\n",
    "plt.title(\"Fraction of time as king\")\n",
    "plt.show()\n"
   ]
  },
  {
   "cell_type": "code",
   "execution_count": 17,
   "metadata": {},
   "outputs": [
    {
     "data": {
      "text/html": [
       "<div>\n",
       "<style scoped>\n",
       "    .dataframe tbody tr th:only-of-type {\n",
       "        vertical-align: middle;\n",
       "    }\n",
       "\n",
       "    .dataframe tbody tr th {\n",
       "        vertical-align: top;\n",
       "    }\n",
       "\n",
       "    .dataframe thead th {\n",
       "        text-align: right;\n",
       "    }\n",
       "</style>\n",
       "<table border=\"1\" class=\"dataframe\">\n",
       "  <thead>\n",
       "    <tr style=\"text-align: right;\">\n",
       "      <th></th>\n",
       "      <th>Duration</th>\n",
       "    </tr>\n",
       "    <tr>\n",
       "      <th>Name</th>\n",
       "      <th></th>\n",
       "    </tr>\n",
       "  </thead>\n",
       "  <tbody>\n",
       "    <tr>\n",
       "      <th>Marc</th>\n",
       "      <td>177</td>\n",
       "    </tr>\n",
       "    <tr>\n",
       "      <th>Mathieu</th>\n",
       "      <td>100</td>\n",
       "    </tr>\n",
       "    <tr>\n",
       "      <th>Gaston</th>\n",
       "      <td>90</td>\n",
       "    </tr>\n",
       "  </tbody>\n",
       "</table>\n",
       "</div>"
      ],
      "text/plain": [
       "         Duration\n",
       "Name             \n",
       "Marc          177\n",
       "Mathieu       100\n",
       "Gaston         90"
      ]
     },
     "execution_count": 17,
     "metadata": {},
     "output_type": "execute_result"
    }
   ],
   "source": [
    "total_time_king\n"
   ]
  },
  {
   "attachments": {},
   "cell_type": "markdown",
   "metadata": {},
   "source": [
    "### 1.5 Mean reign duration"
   ]
  },
  {
   "cell_type": "code",
   "execution_count": 18,
   "metadata": {},
   "outputs": [
    {
     "data": {
      "image/png": "[encoded data removed]",
      "text/plain": [
       "<Figure size 640x480 with 1 Axes>"
      ]
     },
     "metadata": {},
     "output_type": "display_data"
    }
   ],
   "source": [
    "mean_reign_time = dummy_df\n",
    "\n",
    "# include other players\n",
    "if len(mean_reign_time[\"Name\"].unique()) < len(players):\n",
    "    for player in players:\n",
    "        if player not in mean_reign_time[\"Name\"].unique():\n",
    "            mean_reign_time = pd.concat(\n",
    "                [mean_reign_time, pd.DataFrame({\"Name\": [player], \"Duration\": [0]})]\n",
    "            )\n",
    "\n",
    "sns.boxplot(mean_reign_time, x=\"Name\", y=\"Duration\", palette=player_colors)\n",
    "\n",
    "plt.xlabel(\"\")\n",
    "plt.ylabel(\"Reign time (seconds)\")\n",
    "plt.title(\"Reign time\")\n",
    "plt.tight_layout()\n",
    "plt.show()\n"
   ]
  },
  {
   "attachments": {},
   "cell_type": "markdown",
   "metadata": {},
   "source": [
    "### 1.6 (experimental) Transition graph"
   ]
  },
  {
   "attachments": {},
   "cell_type": "markdown",
   "metadata": {},
   "source": [
    "Goal is to have something like this\n",
    "```\n",
    "Gaston        x-------------x\n",
    "              |             |\n",
    "Marc    ------x             |               x------>\n",
    "                            |               |\n",
    "Mathieu                     x---------------x\n",
    "```\n",
    "\n",
    "One possible way:\n",
    "1. Encode each name by int value\n",
    "2. Transform time Duration to percentage of game time.\n",
    "3. Create vector of length 100 with encoding values of player."
   ]
  },
  {
   "cell_type": "code",
   "execution_count": 19,
   "metadata": {},
   "outputs": [
    {
     "data": {
      "text/html": [
       "<div>\n",
       "<style scoped>\n",
       "    .dataframe tbody tr th:only-of-type {\n",
       "        vertical-align: middle;\n",
       "    }\n",
       "\n",
       "    .dataframe tbody tr th {\n",
       "        vertical-align: top;\n",
       "    }\n",
       "\n",
       "    .dataframe thead th {\n",
       "        text-align: right;\n",
       "    }\n",
       "</style>\n",
       "<table border=\"1\" class=\"dataframe\">\n",
       "  <thead>\n",
       "    <tr style=\"text-align: right;\">\n",
       "      <th></th>\n",
       "      <th>Name</th>\n",
       "      <th>Duration</th>\n",
       "      <th>Duration_perc</th>\n",
       "    </tr>\n",
       "  </thead>\n",
       "  <tbody>\n",
       "    <tr>\n",
       "      <th>0</th>\n",
       "      <td>Marc</td>\n",
       "      <td>120</td>\n",
       "      <td>33</td>\n",
       "    </tr>\n",
       "    <tr>\n",
       "      <th>1</th>\n",
       "      <td>Mathieu</td>\n",
       "      <td>20</td>\n",
       "      <td>6</td>\n",
       "    </tr>\n",
       "    <tr>\n",
       "      <th>2</th>\n",
       "      <td>Marc</td>\n",
       "      <td>32</td>\n",
       "      <td>9</td>\n",
       "    </tr>\n",
       "    <tr>\n",
       "      <th>3</th>\n",
       "      <td>Gaston</td>\n",
       "      <td>90</td>\n",
       "      <td>25</td>\n",
       "    </tr>\n",
       "    <tr>\n",
       "      <th>4</th>\n",
       "      <td>Mathieu</td>\n",
       "      <td>70</td>\n",
       "      <td>20</td>\n",
       "    </tr>\n",
       "    <tr>\n",
       "      <th>5</th>\n",
       "      <td>Mathieu</td>\n",
       "      <td>10</td>\n",
       "      <td>3</td>\n",
       "    </tr>\n",
       "    <tr>\n",
       "      <th>6</th>\n",
       "      <td>Marc</td>\n",
       "      <td>25</td>\n",
       "      <td>7</td>\n",
       "    </tr>\n",
       "  </tbody>\n",
       "</table>\n",
       "</div>"
      ],
      "text/plain": [
       "      Name  Duration  Duration_perc\n",
       "0     Marc       120             33\n",
       "1  Mathieu        20              6\n",
       "2     Marc        32              9\n",
       "3   Gaston        90             25\n",
       "4  Mathieu        70             20\n",
       "5  Mathieu        10              3\n",
       "6     Marc        25              7"
      ]
     },
     "execution_count": 19,
     "metadata": {},
     "output_type": "execute_result"
    }
   ],
   "source": [
    "dummy_df[\"Duration_perc\"] = dummy_df[\"Duration\"].apply(\n",
    "    lambda x: int(np.ceil(x / total_duration_seconds * 100))\n",
    ")\n",
    "dummy_df\n"
   ]
  },
  {
   "cell_type": "code",
   "execution_count": 20,
   "metadata": {},
   "outputs": [
    {
     "data": {
      "text/plain": [
       "{'Gaston', 'Marc', 'Mathieu'}"
      ]
     },
     "execution_count": 20,
     "metadata": {},
     "output_type": "execute_result"
    }
   ],
   "source": [
    "graph_vector = []\n",
    "\n",
    "for _, transition in dummy_df.iterrows():\n",
    "    graph_vector.extend(transition.Name for i in range(transition.Duration_perc))\n",
    "set(graph_vector)\n"
   ]
  },
  {
   "cell_type": "code",
   "execution_count": 21,
   "metadata": {},
   "outputs": [
    {
     "data": {
      "image/png": "[encoded data removed]",
      "text/plain": [
       "<Figure size 640x480 with 1 Axes>"
      ]
     },
     "metadata": {},
     "output_type": "display_data"
    }
   ],
   "source": [
    "sns.lineplot(x=range(len(graph_vector)), y=graph_vector, drawstyle=\"steps-mid\")\n",
    "plt.xlabel(\"Game advancement\")\n",
    "plt.title(\"Visualization of crown transitions\")\n",
    "plt.show()\n"
   ]
  },
  {
   "attachments": {},
   "cell_type": "markdown",
   "metadata": {},
   "source": [
    "### 1.7 Summary"
   ]
  },
  {
   "cell_type": "code",
   "execution_count": 22,
   "metadata": {},
   "outputs": [
    {
     "name": "stdout",
     "output_type": "stream",
     "text": [
      "Game duration: 0:06:07 \n",
      "First king: Marc | Last king: Marc \n"
     ]
    },
    {
     "data": {
      "image/png": "[encoded data removed]",
      "text/plain": [
       "<Figure size 1000x600 with 4 Axes>"
      ]
     },
     "metadata": {},
     "output_type": "display_data"
    }
   ],
   "source": [
    "print(\"Game duration: %s \" % str(timedelta(seconds=int(total_duration_seconds))))\n",
    "\n",
    "first_king = dummy_df.iloc[0][\"Name\"]\n",
    "last_king = dummy_df.iloc[-1][\"Name\"]\n",
    "\n",
    "print(\"First king: %s | Last king: %s \" % (first_king, last_king))\n",
    "\n",
    "fig = plt.figure(tight_layout=True, figsize=(10, 6))\n",
    "gs = gridspec.GridSpec(2, 3)\n",
    "\n",
    "# Total Time as king\n",
    "ax = fig.add_subplot(gs[0, 0])\n",
    "pie_wedges = ax.pie(total_time_king[\"Duration\"], labels=total_time_king.index, autopct=\"%.0f%%\")\n",
    "\n",
    "for pie_wedge in pie_wedges[0]:\n",
    "    pie_wedge.set_edgecolor(\"white\")\n",
    "    pie_wedge.set_facecolor(player_colors[pie_wedge.get_label()])\n",
    "\n",
    "ax.set_title(\"Fraction of time as king\")\n",
    "\n",
    "# Mean Reign time\n",
    "ax = fig.add_subplot(gs[0, 1])\n",
    "sns.boxplot(mean_reign_time, x=\"Name\", y=\"Duration\", palette=player_colors, ax=ax)\n",
    "ax.set_xlabel(\"\")\n",
    "ax.set_ylabel(\"Seconds\")\n",
    "ax.set_title(\"Mean reign time\")\n",
    "\n",
    "# Crowns claimed\n",
    "ax = fig.add_subplot(gs[0, 2])\n",
    "sns.barplot(x=crowns_claimed.index, y=crowns_claimed.Claimed, palette=player_colors, ax=ax)\n",
    "ax.set_yticks(range(0, int(np.ceil(crowns_claimed[\"Claimed\"].max())) + 1))\n",
    "ax.set_xlabel(\"\")\n",
    "ax.set_ylabel(\"\")\n",
    "ax.set_title(\"Number of crowns claimed\")\n",
    "\n",
    "# Transition graph\n",
    "ax = fig.add_subplot(gs[1, :])\n",
    "sns.lineplot(x=range(len(graph_vector)), y=graph_vector, drawstyle=\"steps\", ax=ax)\n",
    "ax.set_xlabel(\"Game advancement (percent)\")\n",
    "ax.set_title(\"Visualization of crown transitions\")\n",
    "\n",
    "fig.suptitle(\"Game Summary\")\n",
    "\n",
    "plt.show()\n"
   ]
  },
  {
   "attachments": {},
   "cell_type": "markdown",
   "metadata": {},
   "source": [
    "## 2. Scores"
   ]
  },
  {
   "attachments": {},
   "cell_type": "markdown",
   "metadata": {},
   "source": [
    "### 2.1 Cahier des charges:\n",
    "\n",
    "Le système de scores(s) **doit** prendre en compte:\n",
    "- Le durée totale de la partie\n",
    "- Pour chaque joueur\n",
    "  1. Le temps de règne total\n",
    "  2. La longueur de chaque règne\n",
    "     - Plus un règne est long plus il rapporte de points\n",
    "  3. Si le dernier roi\n",
    "\n",
    "Le système de scores(s) **ne doit pas** prendre en compte:\n",
    "- Le nombre de joueurs"
   ]
  },
  {
   "attachments": {},
   "cell_type": "markdown",
   "metadata": {},
   "source": [
    "### 2.2 Comptage des points"
   ]
  },
  {
   "attachments": {},
   "cell_type": "markdown",
   "metadata": {},
   "source": [
    "#### 2.2.1 Temps de règne total\n",
    "\n",
    "Pour prendre en compte la durée de la partie, on normalise le temps de règne par la durée totale de la partie."
   ]
  },
  {
   "cell_type": "code",
   "execution_count": 23,
   "metadata": {},
   "outputs": [
    {
     "data": {
      "text/plain": [
       "48.228882833787466"
      ]
     },
     "execution_count": 23,
     "metadata": {},
     "output_type": "execute_result"
    }
   ],
   "source": [
    "# alpha : factor to decide the important of total reign time\n",
    "\n",
    "def points_total_reign_time(player, alpha):\n",
    "    return alpha * total_time_king.loc[player]['Duration'] / total_duration_seconds\n",
    "    \n",
    "points_total_reign_time('Marc', alpha=100)"
   ]
  },
  {
   "attachments": {},
   "cell_type": "markdown",
   "metadata": {},
   "source": [
    "#### 2.2.2 Longueur de règne\n",
    "\n",
    "Plus un règne est long plus il rapporte de points."
   ]
  },
  {
   "cell_type": "code",
   "execution_count": 24,
   "metadata": {},
   "outputs": [],
   "source": [
    "def reign_time_points_eval(seconds, sigma=1.9):\n",
    "    return seconds**sigma"
   ]
  },
  {
   "cell_type": "code",
   "execution_count": 25,
   "metadata": {},
   "outputs": [
    {
     "data": {
      "text/html": [
       "<div>\n",
       "<style scoped>\n",
       "    .dataframe tbody tr th:only-of-type {\n",
       "        vertical-align: middle;\n",
       "    }\n",
       "\n",
       "    .dataframe tbody tr th {\n",
       "        vertical-align: top;\n",
       "    }\n",
       "\n",
       "    .dataframe thead th {\n",
       "        text-align: right;\n",
       "    }\n",
       "</style>\n",
       "<table border=\"1\" class=\"dataframe\">\n",
       "  <thead>\n",
       "    <tr style=\"text-align: right;\">\n",
       "      <th></th>\n",
       "      <th>Name</th>\n",
       "      <th>Duration</th>\n",
       "      <th>Duration_perc</th>\n",
       "    </tr>\n",
       "  </thead>\n",
       "  <tbody>\n",
       "    <tr>\n",
       "      <th>0</th>\n",
       "      <td>Marc</td>\n",
       "      <td>120</td>\n",
       "      <td>33</td>\n",
       "    </tr>\n",
       "    <tr>\n",
       "      <th>1</th>\n",
       "      <td>Mathieu</td>\n",
       "      <td>20</td>\n",
       "      <td>6</td>\n",
       "    </tr>\n",
       "    <tr>\n",
       "      <th>2</th>\n",
       "      <td>Marc</td>\n",
       "      <td>32</td>\n",
       "      <td>9</td>\n",
       "    </tr>\n",
       "    <tr>\n",
       "      <th>3</th>\n",
       "      <td>Gaston</td>\n",
       "      <td>90</td>\n",
       "      <td>25</td>\n",
       "    </tr>\n",
       "    <tr>\n",
       "      <th>4</th>\n",
       "      <td>Mathieu</td>\n",
       "      <td>70</td>\n",
       "      <td>20</td>\n",
       "    </tr>\n",
       "    <tr>\n",
       "      <th>5</th>\n",
       "      <td>Mathieu</td>\n",
       "      <td>10</td>\n",
       "      <td>3</td>\n",
       "    </tr>\n",
       "    <tr>\n",
       "      <th>6</th>\n",
       "      <td>Marc</td>\n",
       "      <td>25</td>\n",
       "      <td>7</td>\n",
       "    </tr>\n",
       "  </tbody>\n",
       "</table>\n",
       "</div>"
      ],
      "text/plain": [
       "      Name  Duration  Duration_perc\n",
       "0     Marc       120             33\n",
       "1  Mathieu        20              6\n",
       "2     Marc        32              9\n",
       "3   Gaston        90             25\n",
       "4  Mathieu        70             20\n",
       "5  Mathieu        10              3\n",
       "6     Marc        25              7"
      ]
     },
     "execution_count": 25,
     "metadata": {},
     "output_type": "execute_result"
    }
   ],
   "source": [
    "dummy_df"
   ]
  },
  {
   "cell_type": "code",
   "execution_count": null,
   "metadata": {},
   "outputs": [
    {
     "data": {
      "text/plain": [
       "22.64936448992798"
      ]
     },
     "execution_count": 29,
     "metadata": {},
     "output_type": "execute_result"
    }
   ],
   "source": [
    "def points_reigns_durations(player, beta):\n",
    "    df_points = dummy_df.query('Name == @player').copy()\n",
    "    df_points['Points'] = df_points['Duration_perc'].apply(lambda x: reign_time_points_eval(x))\n",
    "\n",
    "    return beta * df_points['Points'].sum()\n",
    "\n",
    "points_reigns_durations('Gaston', 0.05)"
   ]
  },
  {
   "attachments": {},
   "cell_type": "markdown",
   "metadata": {},
   "source": [
    "#### 2.2.3 Dernier roi\n",
    "Si le joueur est le dernier roi, il recoit un bonus de points qui dépend de la durée totale de la partie."
   ]
  },
  {
   "cell_type": "code",
   "execution_count": null,
   "metadata": {},
   "outputs": [],
   "source": [
    "points_for_last_king = 30"
   ]
  },
  {
   "attachments": {},
   "cell_type": "markdown",
   "metadata": {},
   "source": [
    "#### 2.2.4 Total"
   ]
  },
  {
   "cell_type": "code",
   "execution_count": null,
   "metadata": {},
   "outputs": [],
   "source": [
    "def calculate_score(player, last_king, alpha, beta):\n",
    "    score = 0\n",
    "\n",
    "    score += points_total_reign_time(player, alpha)\n",
    "    score += points_reigns_durations(player, beta)\n",
    "\n",
    "    if player == last_king:\n",
    "        score += points_for_last_king\n",
    "\n",
    "    return score"
   ]
  },
  {
   "cell_type": "code",
   "execution_count": null,
   "metadata": {},
   "outputs": [
    {
     "data": {
      "image/png": "[encoded data removed]",
      "text/plain": [
       "<Figure size 640x480 with 1 Axes>"
      ]
     },
     "metadata": {},
     "output_type": "display_data"
    }
   ],
   "source": [
    "alpha = 150\n",
    "beta = 0.05\n",
    "\n",
    "scores = {player : calculate_score(player, last_king, alpha, beta) for player in players}\n",
    "scores = dict(sorted(scores.items(), key=lambda x: x[1], reverse=True))\n",
    "\n",
    "medal_colors_palette = sns.color_palette(['#FFD700', '#C9C0BB', '#CD7F32', '#3E3E40'])\n",
    "\n",
    "ax = sns.barplot(x = list(scores.keys()), y = list(scores.values()), palette=medal_colors_palette)\n",
    "plt.bar_label(ax.containers[0])\n",
    "plt.title('Final Score', fontweight='bold')\n",
    "plt.xticks(fontweight='bold')\n",
    "plt.show()"
   ]
  },
  {
   "cell_type": "code",
   "execution_count": null,
   "metadata": {},
   "outputs": [],
   "source": []
  }
 ],
 "metadata": {
  "kernelspec": {
   "display_name": "venv",
   "language": "python",
   "name": "python3"
  },
  "language_info": {
   "codemirror_mode": {
    "name": "ipython",
    "version": 3
   },
   "file_extension": ".py",
   "mimetype": "text/x-python",
   "name": "python",
   "nbconvert_exporter": "python",
   "pygments_lexer": "ipython3",
   "version": "3.10.1"
  },
  "orig_nbformat": 4,
  "vscode": {
   "interpreter": {
    "hash": "4834618c2f2ffac93ebd77f67af2adbdb498a8401277289c92cb725ed6309d12"
   }
  }
 },
 "nbformat": 4,
 "nbformat_minor": 2
}
